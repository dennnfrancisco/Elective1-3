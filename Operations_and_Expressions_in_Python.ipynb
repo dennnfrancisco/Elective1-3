{
  "nbformat": 4,
  "nbformat_minor": 0,
  "metadata": {
    "colab": {
      "name": "Operations and Expressions in Python.ipynb",
      "provenance": [],
      "authorship_tag": "ABX9TyM/6bySksE35A9PIul2pK/b",
      "include_colab_link": true
    },
    "kernelspec": {
      "name": "python3",
      "display_name": "Python 3"
    },
    "language_info": {
      "name": "python"
    }
  },
  "cells": [
    {
      "cell_type": "markdown",
      "metadata": {
        "id": "view-in-github",
        "colab_type": "text"
      },
      "source": [
        "<a href=\"https://colab.research.google.com/github/dennnfrancisco/Elective1-3/blob/main/Operations_and_Expressions_in_Python.ipynb\" target=\"_parent\"><img src=\"https://colab.research.google.com/assets/colab-badge.svg\" alt=\"Open In Colab\"/></a>"
      ]
    },
    {
      "cell_type": "markdown",
      "source": [
        "## Elective Lab - Python"
      ],
      "metadata": {
        "id": "RnuDfeSE2kXm"
      }
    },
    {
      "cell_type": "markdown",
      "source": [
        "##Boolean Operators\n"
      ],
      "metadata": {
        "id": "Le9Hjkkm0E4U"
      }
    },
    {
      "cell_type": "code",
      "source": [
        "x = 10\n",
        "y = 9\n",
        "\n",
        "print(x>y)\n",
        "print(x==y)\n",
        "print(x<y)"
      ],
      "metadata": {
        "colab": {
          "base_uri": "https://localhost:8080/"
        },
        "id": "LHFLgle90J8K",
        "outputId": "9e4e5769-a363-4f01-f623-e55a57c6ec69"
      },
      "execution_count": null,
      "outputs": [
        {
          "output_type": "stream",
          "name": "stdout",
          "text": [
            "True\n",
            "False\n",
            "False\n"
          ]
        }
      ]
    },
    {
      "cell_type": "markdown",
      "source": [
        "##Bool Function"
      ],
      "metadata": {
        "id": "24iD3kIb2SSh"
      }
    },
    {
      "cell_type": "code",
      "source": [
        "print(bool(\"Maria\"))\n",
        "print(bool(17))\n",
        "\n",
        "print(bool(None))\n",
        "print(bool())\n",
        "print(bool([]))\n",
        "print(bool(0))"
      ],
      "metadata": {
        "colab": {
          "base_uri": "https://localhost:8080/"
        },
        "id": "tp9LZf4z1RoZ",
        "outputId": "4cf3dde5-2324-49e7-c7b5-6e230f21079c"
      },
      "execution_count": null,
      "outputs": [
        {
          "output_type": "stream",
          "name": "stdout",
          "text": [
            "True\n",
            "True\n",
            "False\n",
            "False\n",
            "False\n",
            "False\n"
          ]
        }
      ]
    },
    {
      "cell_type": "markdown",
      "source": [
        "## Defining Function"
      ],
      "metadata": {
        "id": "lLnI9v-N2VVs"
      }
    },
    {
      "cell_type": "code",
      "source": [
        "def myFunction():\n",
        "  return True\n",
        "\n",
        "print(myFunction())"
      ],
      "metadata": {
        "colab": {
          "base_uri": "https://localhost:8080/"
        },
        "id": "7F9dto6U2IW9",
        "outputId": "ed64a912-fcd7-4884-e9a0-141238e98fd5"
      },
      "execution_count": null,
      "outputs": [
        {
          "output_type": "stream",
          "name": "stdout",
          "text": [
            "True\n"
          ]
        }
      ]
    },
    {
      "cell_type": "code",
      "source": [
        "def myFunction():\n",
        "  return False\n",
        "\n",
        "if myFunction():\n",
        "  print(\"Yes\")\n",
        "else:\n",
        "  print(\"No\")"
      ],
      "metadata": {
        "colab": {
          "base_uri": "https://localhost:8080/"
        },
        "id": "SnzvkYCJ2rxb",
        "outputId": "def1ab7b-8d61-407b-dc2e-077a96548174"
      },
      "execution_count": null,
      "outputs": [
        {
          "output_type": "stream",
          "name": "stdout",
          "text": [
            "No\n"
          ]
        }
      ]
    },
    {
      "cell_type": "markdown",
      "source": [
        "##Application 1"
      ],
      "metadata": {
        "id": "pMiF7VLC3aRv"
      }
    },
    {
      "cell_type": "code",
      "source": [
        "a=6\n",
        "b=7\n",
        "\n",
        "print(a==b)\n",
        "print(a!=b)"
      ],
      "metadata": {
        "colab": {
          "base_uri": "https://localhost:8080/"
        },
        "id": "U7VDK2HT3Rye",
        "outputId": "75702e29-2fad-43a4-8164-853fb7b6314d"
      },
      "execution_count": null,
      "outputs": [
        {
          "output_type": "stream",
          "name": "stdout",
          "text": [
            "False\n",
            "True\n"
          ]
        }
      ]
    },
    {
      "cell_type": "markdown",
      "source": [
        "## Arithmetic Operations\n"
      ],
      "metadata": {
        "id": "QpJ0IV2m4tTL"
      }
    },
    {
      "cell_type": "code",
      "source": [
        "print(a+b)\n",
        "print(a-b)\n",
        "print(a*b)\n",
        "print(a**b)"
      ],
      "metadata": {
        "colab": {
          "base_uri": "https://localhost:8080/"
        },
        "id": "oL5D4qTE4d0n",
        "outputId": "a5b3d0c0-c7fb-40c6-b0c2-911e80adc325"
      },
      "execution_count": null,
      "outputs": [
        {
          "output_type": "stream",
          "name": "stdout",
          "text": [
            "13\n",
            "-1\n",
            "42\n",
            "279936\n"
          ]
        }
      ]
    },
    {
      "cell_type": "markdown",
      "source": [
        "## Bitwise Operators\n",
        "\n"
      ],
      "metadata": {
        "id": "v4MIesVf5bay"
      }
    },
    {
      "cell_type": "code",
      "source": [
        "c = 60\n",
        "d = 13\n",
        "print(c&d)\n",
        "print(c|d)\n",
        "print(c<<1)\n",
        "print(c<<2)"
      ],
      "metadata": {
        "colab": {
          "base_uri": "https://localhost:8080/"
        },
        "id": "2GIzJUg_5bGh",
        "outputId": "69edb4d2-949f-4830-e03d-2f73a72362b7"
      },
      "execution_count": null,
      "outputs": [
        {
          "output_type": "stream",
          "name": "stdout",
          "text": [
            "12\n",
            "61\n",
            "120\n",
            "240\n"
          ]
        }
      ]
    },
    {
      "cell_type": "markdown",
      "source": [
        "##Assignment Operators\n"
      ],
      "metadata": {
        "id": "er9c8Wt980wg"
      }
    },
    {
      "cell_type": "code",
      "source": [
        "c+=3 ##c+=3 same as c = c+3\n",
        "c%=3\n",
        "\n",
        "print(c)"
      ],
      "metadata": {
        "colab": {
          "base_uri": "https://localhost:8080/"
        },
        "id": "kVTaTnwm80jQ",
        "outputId": "0fd4d824-1c1f-44da-a667-41a84fc14dd2"
      },
      "execution_count": null,
      "outputs": [
        {
          "output_type": "stream",
          "name": "stdout",
          "text": [
            "0\n"
          ]
        }
      ]
    },
    {
      "cell_type": "markdown",
      "source": [
        "##Logical Operators\n"
      ],
      "metadata": {
        "id": "gIeUVCic8__I"
      }
    },
    {
      "cell_type": "code",
      "source": [
        "c = True\n",
        "d = True\n",
        "\n",
        "not(c and d)"
      ],
      "metadata": {
        "colab": {
          "base_uri": "https://localhost:8080/"
        },
        "id": "NJhw_9Ix9Bk1",
        "outputId": "491520c7-b33b-4231-9c5f-136285604339"
      },
      "execution_count": null,
      "outputs": [
        {
          "output_type": "execute_result",
          "data": {
            "text/plain": [
              "False"
            ]
          },
          "metadata": {},
          "execution_count": 26
        }
      ]
    },
    {
      "cell_type": "markdown",
      "source": [
        "## Identity "
      ],
      "metadata": {
        "id": "wN2psM4F9RKF"
      }
    },
    {
      "cell_type": "code",
      "source": [
        "c is d\n",
        "c is not d"
      ],
      "metadata": {
        "colab": {
          "base_uri": "https://localhost:8080/"
        },
        "id": "PnaQSPwZ9TZG",
        "outputId": "62c2f972-9067-45eb-eac0-27f6e033f198"
      },
      "execution_count": null,
      "outputs": [
        {
          "output_type": "execute_result",
          "data": {
            "text/plain": [
              "False"
            ]
          },
          "metadata": {},
          "execution_count": 28
        }
      ]
    },
    {
      "cell_type": "markdown",
      "source": [
        "##Application 2"
      ],
      "metadata": {
        "id": "Nv1jsg4u9gXB"
      }
    },
    {
      "cell_type": "code",
      "source": [
        "e = 10\n",
        "f = 5\n",
        "\n",
        "# Implement the oprtations +, //, and bit shift right  >> twice\n",
        "\n",
        "print(e+f)\n",
        "print(e//f)\n",
        "print(e>>2)\n",
        "print(f>>2)"
      ],
      "metadata": {
        "colab": {
          "base_uri": "https://localhost:8080/"
        },
        "id": "S3ghXKtT9gIf",
        "outputId": "674a602b-c89e-4816-cc06-57ddd7e04e65"
      },
      "execution_count": null,
      "outputs": [
        {
          "output_type": "stream",
          "name": "stdout",
          "text": [
            "15\n",
            "2\n",
            "2\n",
            "1\n"
          ]
        }
      ]
    }
  ]
}